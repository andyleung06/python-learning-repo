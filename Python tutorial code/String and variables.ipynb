{
 "cells": [
  {
   "cell_type": "code",
   "execution_count": 2,
   "metadata": {},
   "outputs": [
    {
     "name": "stdout",
     "output_type": "stream",
     "text": [
      "3\n"
     ]
    }
   ],
   "source": [
    "x = 1 \n",
    "y = 2\n",
    "z = x + y\n",
    "print (z)"
   ]
  },
  {
   "cell_type": "code",
   "execution_count": 3,
   "metadata": {},
   "outputs": [],
   "source": [
    "x= 1\n",
    "y = 2\n",
    "\n"
   ]
  },
  {
   "cell_type": "code",
   "execution_count": 4,
   "metadata": {},
   "outputs": [
    {
     "name": "stdout",
     "output_type": "stream",
     "text": [
      "1\n"
     ]
    }
   ],
   "source": [
    "print(x)"
   ]
  },
  {
   "cell_type": "code",
   "execution_count": 5,
   "metadata": {},
   "outputs": [
    {
     "name": "stdout",
     "output_type": "stream",
     "text": [
      "1\n"
     ]
    }
   ],
   "source": [
    "print(x)"
   ]
  },
  {
   "cell_type": "code",
   "execution_count": 6,
   "metadata": {},
   "outputs": [
    {
     "name": "stdout",
     "output_type": "stream",
     "text": [
      "2\n"
     ]
    }
   ],
   "source": [
    "x = x +1\n",
    "\n",
    "print(x)"
   ]
  },
  {
   "cell_type": "code",
   "execution_count": 7,
   "metadata": {},
   "outputs": [
    {
     "name": "stdout",
     "output_type": "stream",
     "text": [
      "2\n"
     ]
    }
   ],
   "source": [
    "x = 1\n",
    "x += 1\n",
    "print(x)\n"
   ]
  },
  {
   "cell_type": "code",
   "execution_count": 8,
   "metadata": {},
   "outputs": [
    {
     "name": "stdout",
     "output_type": "stream",
     "text": [
      "30\n"
     ]
    }
   ],
   "source": [
    "x = 10\n",
    "y = 20\n",
    "z = x + y\n",
    "print (z)"
   ]
  },
  {
   "cell_type": "code",
   "execution_count": 9,
   "metadata": {},
   "outputs": [
    {
     "name": "stdout",
     "output_type": "stream",
     "text": [
      "10thirty\n"
     ]
    }
   ],
   "source": [
    "x = \"10\"\n",
    "y = \"thirty\"\n",
    "z = 10.0\n",
    "\n",
    "print (x + y)\n",
    "\n",
    "\n",
    "\n"
   ]
  },
  {
   "cell_type": "code",
   "execution_count": 10,
   "metadata": {},
   "outputs": [
    {
     "name": "stdout",
     "output_type": "stream",
     "text": [
      "5000\n"
     ]
    }
   ],
   "source": [
    "x = 100\n",
    "y = 50 \n",
    "\n",
    "print (x * y)\n"
   ]
  },
  {
   "cell_type": "code",
   "execution_count": 11,
   "metadata": {},
   "outputs": [
    {
     "name": "stdout",
     "output_type": "stream",
     "text": [
      "12.56\n"
     ]
    }
   ],
   "source": [
    "pi = 3.14\n",
    "radius = 2\n",
    "radius_squared = radius ** 2\n",
    "circle_area = radius_squared *pi\n",
    "\n",
    "print (circle_area)\n",
    "\n",
    "#find the area of the circle by creating 4 variables and assign the integers\n"
   ]
  },
  {
   "cell_type": "code",
   "execution_count": 12,
   "metadata": {},
   "outputs": [
    {
     "name": "stdout",
     "output_type": "stream",
     "text": [
      "Andy Likes Running\n",
      "My name is Andy,and I like Running\n"
     ]
    }
   ],
   "source": [
    "name = \"Andy\"\n",
    "hobby = \"Running\"\n",
    "\n",
    "name_hobby = name  + \" Likes \" + hobby\n",
    "\n",
    "print (name_hobby)\n",
    "\n",
    "phrase = f\"My name is {name},and I like {hobby}\"\n",
    "\n",
    "print (phrase)\n",
    "\n",
    "#putting strings together and using the f string to combine strings with additional words in between the strings\n",
    "\n",
    "\n",
    "#the codes are within the blue border and the answer or output are under this blue box\n"
   ]
  },
  {
   "cell_type": "code",
   "execution_count": 13,
   "metadata": {},
   "outputs": [
    {
     "name": "stdout",
     "output_type": "stream",
     "text": [
      "My name is Andy, and my job title is CEO\n"
     ]
    }
   ],
   "source": [
    "name1 = \"Andy\"\n",
    "\n",
    "job_title = \"CEO\"\n",
    "\n",
    "\n",
    "name_title = name + job_title\n",
    "\n",
    "Title = f\"My name is {name1}, and my job title is {job_title}\"\n",
    "\n",
    "print (Title)\n",
    "\n",
    "#putting strings together and using the f string to combine strings with additional words in between the strings to make meanful snetences\n"
   ]
  },
  {
   "cell_type": "code",
   "execution_count": 14,
   "metadata": {},
   "outputs": [
    {
     "name": "stdout",
     "output_type": "stream",
     "text": [
      "5\n",
      "11\n",
      "5\n"
     ]
    }
   ],
   "source": [
    "x = 5\n",
    "print (x)\n",
    "x = 6 + x\n",
    "print (x)\n",
    "x = 5\n",
    "print (x)\n"
   ]
  },
  {
   "cell_type": "code",
   "execution_count": 15,
   "metadata": {},
   "outputs": [
    {
     "name": "stdout",
     "output_type": "stream",
     "text": [
      "30\n",
      "-10\n",
      "200\n",
      "0.5\n",
      "100000000000000000000\n",
      "4.1\n"
     ]
    }
   ],
   "source": [
    "x = 10\n",
    "y = 20\n",
    "\n",
    "#mathematical operations\n",
    "\n",
    "print( x + y) # plus\n",
    "print( x - y) # minus\n",
    "print( x * y) # times\n",
    "print( x / y) # divide\n",
    "print( x ** y) # power of\n",
    "\n",
    "measure = 123\n",
    "pop = 300000\n",
    "rate = measure / pop\n",
    "rp10k = rate * 10000\n",
    "print (rp10k)\n",
    "\n",
    "\n",
    "\n",
    "\n",
    "\n"
   ]
  },
  {
   "cell_type": "code",
   "execution_count": 16,
   "metadata": {},
   "outputs": [
    {
     "name": "stdout",
     "output_type": "stream",
     "text": [
      "c://data/CIN\n",
      "CIN_dataset_202324.csv\n",
      "CIN_dataset_202324\n",
      ".csv\n",
      "c/dt/I_aae_034cv\n"
     ]
    }
   ],
   "source": [
    "my_string = \"c://data/CIN_dataset_202324.csv\"\n",
    "#print(my_string)\n",
    "\n",
    "#in python counting starts at zero\n",
    "#in a range, the second number is not inclusive, it's exclusive\n",
    "\n",
    "new_string = my_string [0:12]\n",
    "print(new_string)\n",
    "\n",
    "\n",
    "filename = my_string [9:]\n",
    "print (filename)\n",
    "\n",
    "short_fn     = filename[:0-4]\n",
    "print(short_fn)\n",
    "\n",
    "filetype = my_string [-4:]\n",
    "print(filetype)\n",
    "\n",
    "#[start: stop : step]\n",
    "weird_string = my_string [: : 2]\n",
    "print (weird_string)\n",
    "\n",
    "\n"
   ]
  },
  {
   "cell_type": "code",
   "execution_count": 17,
   "metadata": {},
   "outputs": [
    {
     "name": "stdout",
     "output_type": "stream",
     "text": [
      "dog\n",
      "cat\n",
      "raccoon\n"
     ]
    }
   ],
   "source": [
    "slice_this_phrase = \"dog cat raccoon\"\n",
    "\n",
    "#slice string slices to isolate each string as animal_1 , animal_2, animal_3\n",
    "\n",
    "animal_1 = slice_this_phrase [:3]\n",
    "print (animal_1)\n",
    "\n",
    "animal_2 = slice_this_phrase [4:7]\n",
    "print (animal_2)\n",
    "\n",
    "animal_3 = slice_this_phrase [-7:]\n",
    "print (animal_3)\n",
    "\n"
   ]
  },
  {
   "cell_type": "code",
   "execution_count": 18,
   "metadata": {},
   "outputs": [
    {
     "name": "stdout",
     "output_type": "stream",
     "text": [
      "<class 'list'>\n",
      "[1, 2.0, ['purple', 'red']]\n"
     ]
    }
   ],
   "source": [
    "list_1 = []\n",
    "print(type(list_1))\n",
    "\n",
    "#how to compile a list or store of answers to problems, turn column into a table\n",
    "\n",
    "x = 1\n",
    "y = 2.0\n",
    "z = \"three\"\n",
    "list_1 = [\"purple\", \"red\"]\n",
    "\n",
    "list_2 = [x, y, list_1]\n",
    "\n",
    "print(list_2)\n",
    "\n"
   ]
  },
  {
   "cell_type": "code",
   "execution_count": 19,
   "metadata": {},
   "outputs": [
    {
     "name": "stdout",
     "output_type": "stream",
     "text": [
      "['red', 'blue', 'Green']\n",
      "['red', 'blue', 'Green', 'purple']\n",
      "['red', 'blue', 'Green', 'purple', ['orange', ' black']]\n",
      "['red', 'blue', 'Green', 'purple', ['orange', ' black'], 'brown']\n"
     ]
    }
   ],
   "source": [
    "colours = [\"red\", \"blue\", \"Green\"]\n",
    "print (colours)\n",
    "\n",
    "colours.append(\"purple\")\n",
    "\n",
    "print(colours)\n",
    "\n",
    "colours.append( [\"orange\", \" black\"]) # adding a list nested within a list\n",
    "\n",
    "print(colours)\n",
    "\n",
    "colours.append (\"brown\")\n",
    "\n",
    "print(colours)\n",
    "\n",
    "# methods of lists\n",
    "#append\n",
    "#extend\n",
    "#insert\n",
    "#sort\n",
    "\n",
    "#see python docs fo full list of methods\n"
   ]
  },
  {
   "cell_type": "code",
   "execution_count": 20,
   "metadata": {},
   "outputs": [
    {
     "name": "stdout",
     "output_type": "stream",
     "text": [
      "<class 'str'>\n",
      "[1, 2, 3, [10, 11], 3, 4, 5]\n",
      "3\n",
      "[2, [10, 11], 4]\n",
      "[0, 1, 2, 3, 4, 5, 6, 7, 8, 9, 10]\n"
     ]
    }
   ],
   "source": [
    "#storing variables - name of variables is left handside\n",
    "num_1 = 1 # integer\n",
    "num_2 = 2.0 # float\n",
    "name = \"Andy\" #string\n",
    "list_1 = [1,2,3,]\n",
    "\n",
    "print (type(name)) #print is a function\n",
    "\n",
    "list_1.append ([10,11])\n",
    "list_1.extend ([3,4,5,])\n",
    "print(list_1)\n",
    "\n",
    "list_index_individual = list_1[4]\n",
    "print(list_index_individual)\n",
    "\n",
    "list_slice = list_1 [1::2]\n",
    "print(list_slice)\n",
    "\n",
    "list_2 = list(range (11))\n",
    "print(list_2)\n",
    "\n",
    "\n",
    "\n",
    "\n",
    "\n"
   ]
  },
  {
   "cell_type": "code",
   "execution_count": 21,
   "metadata": {},
   "outputs": [
    {
     "name": "stdout",
     "output_type": "stream",
     "text": [
      "<class 'int'>\n"
     ]
    }
   ],
   "source": [
    "num_2 = str(num_2)\n",
    "\n",
    "num_2 = float(num_2)\n",
    "\n",
    "num_2 = int(num_2)\n",
    "\n",
    "print(type(num_2))\n"
   ]
  },
  {
   "cell_type": "code",
   "execution_count": 22,
   "metadata": {},
   "outputs": [
    {
     "name": "stdout",
     "output_type": "stream",
     "text": [
      "[2, 3, 4, 5, 1, 6]\n",
      "[6, 5, 4, 3, 2, 1]\n"
     ]
    }
   ],
   "source": [
    "numbers_list = [2,3,4,5,1,6,]\n",
    "print (numbers_list)\n",
    "\n",
    "numbers_list.sort(reverse = True)\n",
    "print(numbers_list)\n",
    "\n",
    "\n"
   ]
  },
  {
   "cell_type": "code",
   "execution_count": 23,
   "metadata": {},
   "outputs": [
    {
     "ename": "SyntaxError",
     "evalue": "unterminated string literal (detected at line 3) (405733490.py, line 3)",
     "output_type": "error",
     "traceback": [
      "\u001b[0;36m  Cell \u001b[0;32mIn[23], line 3\u001b[0;36m\u001b[0m\n\u001b[0;31m    dict_1 = {'key1' :'Value,\u001b[0m\n\u001b[0m                      ^\u001b[0m\n\u001b[0;31mSyntaxError\u001b[0m\u001b[0;31m:\u001b[0m unterminated string literal (detected at line 3)\n"
     ]
    }
   ],
   "source": [
    "# Dictionary to store variables in any data - key left handside, value right handside\n",
    "\n",
    "dict_1 = {'key1' :'Value,\n",
    "          'key2:' : 'Value'}\n",
    "\n",
    "print(type(dict_1))\n"
   ]
  },
  {
   "cell_type": "code",
   "execution_count": null,
   "metadata": {},
   "outputs": [
    {
     "ename": "SyntaxError",
     "evalue": "unterminated string literal (detected at line 22) (3727295964.py, line 22)",
     "output_type": "error",
     "traceback": [
      "\u001b[0;36m  Cell \u001b[0;32mIn[34], line 22\u001b[0;36m\u001b[0m\n\u001b[0;31m    'KFC': ['chicken wing', 'chickern burger', 'mash with 'gravy'],\u001b[0m\n\u001b[0m                                                                ^\u001b[0m\n\u001b[0;31mSyntaxError\u001b[0m\u001b[0;31m:\u001b[0m unterminated string literal (detected at line 22)\n"
     ]
    }
   ],
   "source": [
    "Andy = {'Name' : 'Andy',\n",
    "        'Job Title' : 'Analyst',\n",
    "        'Hours' : 'Too Many',\n",
    "        'Salary' :10}\n",
    "\n",
    "colours_dict = {'Ryan' : 'Blue',\n",
    "                'Soph' : ['Black','Orange'],\n",
    "                'Laura' : '18',\n",
    "                'Sam' : {'Mondday': 'White'}\n",
    "                'Sunday' : 'brown'}\n",
    "\n",
    "#exercise - make a dictionary of some restaurants and the food they sell\n",
    "\n",
    "\n"
   ]
  },
  {
   "cell_type": "code",
   "execution_count": null,
   "metadata": {},
   "outputs": [
    {
     "name": "stdout",
     "output_type": "stream",
     "text": [
      "dict_keys(['Mcd', 'KFC', 'local hotel', 'gastro pub foodweekends', 'kebab shop'])\n",
      "dict_values(['burger', ['chicken wing', 'chickern burger', 'mash with gravy'], 'weekdays', 'high tea', 'kebabs'])\n",
      "dict_items([('Mcd', 'burger'), ('KFC', ['chicken wing', 'chickern burger', 'mash with gravy']), ('local hotel', 'weekdays'), ('gastro pub foodweekends', 'high tea'), ('kebab shop', 'kebabs')])\n",
      "False\n",
      "True\n"
     ]
    }
   ],
   "source": [
    "\n",
    "restaurants = {'Mcd' :'burger',\n",
    "               'KFC': ['chicken wing', 'chickern burger', 'mash with gravy'],\n",
    "               'local hotel': 'weekdays', 'gastro pub food'\n",
    "                              'weekends' : 'high tea'}\n",
    "\n",
    "\n",
    "restaurants ['kebab shop'] = 'kebabs'\n",
    "\n",
    "print(restaurants.keys())\n",
    "print (restaurants.values())\n",
    "print (restaurants.items())\n",
    "\n",
    "print('curry' in restaurants)\n",
    "print ('kebab shop' in restaurants)\n",
    "\n",
    "\n",
    "\n",
    "\n",
    "\n"
   ]
  },
  {
   "cell_type": "code",
   "execution_count": null,
   "metadata": {},
   "outputs": [],
   "source": [
    "#data frames (for example, csv or SQL)\n",
    "#import it like pandas and what we need from pandas (pd short for pandas)\n",
    "#from random import randrange # import randrange from Pandas\n",
    "\n",
    "\n",
    "import pandas as pd\n",
    "\n",
    "filepath = 'http://raw.githubusercontent.com/data-to-insight/csc-validator-be-903/main/tests/fake_data/header.csv'\n",
    "\n",
    "header_fake = pd.read_csv(filepath)\n",
    "\n",
    "# read an excel file pd.read_excel(<fileptah>)\n",
    "\n"
   ]
  },
  {
   "cell_type": "code",
   "execution_count": null,
   "metadata": {},
   "outputs": [
    {
     "name": "stdout",
     "output_type": "stream",
     "text": [
      "    CHILD  SEX         DOB ETHNIC            UPN  MOTHER MC_DOB\n",
      "0  566910    2  27/03/2008   WROM  D051910639385     NaN    NaN\n",
      "1  384923    2  09/09/2011   REFU  L034811502612     NaN    NaN\n",
      "2  709901    1  14/02/2013   ABAN  Y021751958510     NaN    NaN\n",
      "3  550084    2  04/05/2008   AOTH  R095578985099     NaN    NaN\n",
      "4  710229    2  15/04/2002   REFU  Z095096287583     NaN    NaN\n",
      "5  733831    1  06/07/2013   WROM  Z005227500041     NaN    NaN\n",
      "6   69112    2  11/09/2010   ABAN  X089575916879     NaN    NaN\n",
      "7  853884    2  09/10/2004   WBRI  U096513817313     NaN    NaN\n",
      "8  634852    2  19/10/2006   WIRI  X019131453866     NaN    NaN\n",
      "9  512087    1  01/10/2003   MOTH  J091207487052     NaN    NaN\n",
      "       CHILD  SEX         DOB ETHNIC            UPN  MOTHER MC_DOB\n",
      "2665  199656    1  08/07/2009   WOTH  G006043737339     NaN    NaN\n",
      "2666  587124    1  14/10/2006   AOTH  X013739746473     NaN    NaN\n",
      "2667  558581    1  05/07/2001   MWBC  S048947751783     NaN    NaN\n",
      "2668  937984    2  08/05/2008   WROM  B072095547455     NaN    NaN\n",
      "2669  942735    2  27/10/2010   BCRB  V010957149459     NaN    NaN\n",
      "2670  152113    1  06/06/2003   WBRI  K096794376750     NaN    NaN\n",
      "2671  481370    2  12/02/2008   BAFR  C014150452081     NaN    NaN\n",
      "2672  791577    1  28/05/2011   WBRI  Q009369089812     NaN    NaN\n",
      "2673  238470    1  21/11/2013   AIND  P095222532769     NaN    NaN\n",
      "2674  437361    1  15/12/2012   WROM  G018001328504     NaN    NaN\n",
      "<class 'pandas.core.frame.DataFrame'>\n",
      "RangeIndex: 2675 entries, 0 to 2674\n",
      "Data columns (total 7 columns):\n",
      " #   Column  Non-Null Count  Dtype  \n",
      "---  ------  --------------  -----  \n",
      " 0   CHILD   2675 non-null   int64  \n",
      " 1   SEX     2675 non-null   int64  \n",
      " 2   DOB     2675 non-null   object \n",
      " 3   ETHNIC  2675 non-null   object \n",
      " 4   UPN     2675 non-null   object \n",
      " 5   MOTHER  1 non-null      float64\n",
      " 6   MC_DOB  1 non-null      object \n",
      "dtypes: float64(1), int64(2), object(4)\n",
      "memory usage: 146.4+ KB\n",
      "None\n"
     ]
    }
   ],
   "source": [
    "print(header_fake.head(10))\n",
    "print(header_fake.tail(10))\n",
    "\n",
    "print(header_fake.info())\n",
    "\n"
   ]
  },
  {
   "cell_type": "code",
   "execution_count": null,
   "metadata": {},
   "outputs": [
    {
     "name": "stdout",
     "output_type": "stream",
     "text": [
      "   col1 col2 col3\n",
      "0     1    A  foo\n",
      "1     2    B  bar\n",
      "2     3    C  baz\n",
      "                  Name Salary        Job Title\n",
      "0    Will Levack-Payne     10          Teacher\n",
      "1   Annie Levack-Payne      8     Head Teacher\n",
      "2    Andy Levack-Payne      7  Trainee Teacher\n",
      "3  Naiomi Levack-Payne     18     Sports coach\n",
      "4            Scout DOg      0              Dog\n",
      "<class 'pandas.core.frame.DataFrame'>\n",
      "RangeIndex: 5 entries, 0 to 4\n",
      "Data columns (total 3 columns):\n",
      " #   Column     Non-Null Count  Dtype \n",
      "---  ------     --------------  ----- \n",
      " 0   Name       5 non-null      object\n",
      " 1   Salary     5 non-null      object\n",
      " 2   Job Title  5 non-null      object\n",
      "dtypes: object(3)\n",
      "memory usage: 248.0+ bytes\n",
      "None\n",
      "                Name Salary Job Title\n",
      "0  Will Levack-Payne     10   Teacher\n",
      "0    10\n",
      "1     8\n",
      "2     7\n",
      "3    18\n",
      "4     0\n",
      "Name: Salary, dtype: object\n",
      "                  Name        Job Title\n",
      "0    Will Levack-Payne          Teacher\n",
      "1   Annie Levack-Payne     Head Teacher\n",
      "2    Andy Levack-Payne  Trainee Teacher\n",
      "3  Naiomi Levack-Payne     Sports coach\n",
      "4            Scout DOg              Dog\n"
     ]
    }
   ],
   "source": [
    "#dict of list\n",
    "\n",
    "#check this with Will\n",
    "\n",
    "d_1 ={'col1' : [1,2,3],\n",
    "       'col2' : ['A','B','C'],\n",
    "       'col3' : ['foo','bar','baz']}\n",
    "\n",
    "df_1 = pd.DataFrame(d_1)\n",
    "print(df_1)\n",
    "\n",
    "\n",
    "#list of dicts\n",
    "\n",
    "#check this with Will \n",
    "\n",
    "df_2= pd.DataFrame([\n",
    "    {'column1' :1,\n",
    "     'column2' : 'A',\n",
    "     'column3' : 'foo'},\n",
    "    {'column1' :2,\n",
    "     'column2' : 'B',\n",
    "     'column3' : 'Bar'},\n",
    "     {'column1' :3,\n",
    "     'column2' : 'C',\n",
    "     'column3' : 'Baz'},])\n",
    "\n",
    "\n",
    "# #staff = pd.DataFrame([\n",
    "#     {'Name':'Will Levack-Payne',\n",
    "#      'Salary':'10',\n",
    "#      'Job Title':'Teacher'},\n",
    "#      {'Name':'Annie Levack-Payne',\n",
    "#      'Salary':'8',\n",
    "#      'Job Title':'Head Teacher',\n",
    "#      staff = pd.DataFrame([\n",
    "#     {'Name':'Will Levack-Payne',\n",
    "#      'Salary':'10',\n",
    "#      'Job Title':'Teacher'},\n",
    "#      {'Name':'Andy Leung',\n",
    "#      'Salary':'12',\n",
    "#      'Job Title':'Caretaker'}\n",
    "# ])\n",
    "\n",
    "staff = pd.DataFrame([\n",
    "    {'Name':'Will Levack-Payne',\n",
    "     'Salary':'10',\n",
    "     'Job Title':'Teacher'},\n",
    "     {'Name':'Annie Levack-Payne',\n",
    "     'Salary':'8',\n",
    "     'Job Title':'Head Teacher'},\n",
    "    {'Name':'Andy Levack-Payne',\n",
    "     'Salary':'7',\n",
    "     'Job Title':'Trainee Teacher'},\n",
    "     {'Name':'Naiomi Levack-Payne',\n",
    "     'Salary':'18',\n",
    "     'Job Title':'Sports coach'},\n",
    "     {'Name':'Scout DOg',\n",
    "     'Salary':'0',\n",
    "     'Job Title':'Dog'}\n",
    "])\n",
    "\n",
    "print(staff)\n",
    "\n",
    "print(staff.info())\n",
    "print (staff.head (1))\n",
    "print (staff['Salary'])\n",
    "print (staff[['Name', 'Job Title']])\n",
    "\n"
   ]
  },
  {
   "cell_type": "code",
   "execution_count": null,
   "metadata": {},
   "outputs": [
    {
     "name": "stdout",
     "output_type": "stream",
     "text": [
      "int64\n",
      "The mean salary is : 8.6\n",
      "The total salaries is : 43\n",
      "The max and min salaries are : 18,0.\n"
     ]
    }
   ],
   "source": [
    "staff['Salary'] = staff ['Salary'].astype('int')\n",
    "print (staff['Salary'].dtypes)\n",
    "\n",
    "mean_salary = staff['Salary'].mean()\n",
    "sum_salary = staff ['Salary'].sum()\n",
    "max_salary = staff ['Salary'].max ()\n",
    "min_salary = staff ['Salary'].min ()\n",
    "\n",
    "print(f'The mean salary is : {mean_salary}')\n",
    "print(f'The total salaries is : {sum_salary}')\n",
    "print(f'The max and min salaries are : {max_salary},{min_salary}.')"
   ]
  },
  {
   "cell_type": "code",
   "execution_count": null,
   "metadata": {},
   "outputs": [],
   "source": [
    "x = 10\n",
    "name = 'Andy'\n",
    "list_1 = [1,2,3, 'four, name']\n",
    "dict_1 = {'key':1, 2: 2}\n",
    "print(type(x))\n",
    "\n",
    "y = x + 9\n",
    "print(Y)\n"
   ]
  },
  {
   "cell_type": "code",
   "execution_count": null,
   "metadata": {},
   "outputs": [],
   "source": [
    "phrase = 'My name is Andy'\n",
    "sub_string = phrase[3:7]\n",
    "print (sub_string)\n"
   ]
  },
  {
   "cell_type": "code",
   "execution_count": null,
   "metadata": {},
   "outputs": [],
   "source": [
    "list_2  = [1,2,3,4,5,6,7,8,9,10]\n",
    "sub_list = list_2[-4:]\n",
    "sub_list = list_2 [-1::-1]\n",
    "print (sub_list)\n"
   ]
  },
  {
   "cell_type": "code",
   "execution_count": null,
   "metadata": {},
   "outputs": [],
   "source": [
    "list_2  = [1,2,3,4,5,6,7,8,9,10]\n",
    "list_2.append([11, 12])\n",
    "list_2.extend([11,12])\n",
    "list_2.reverse()\n",
    "list_2.sort()\n",
    "print(list_2)\n",
    "print(len(list_2))\n",
    "\n"
   ]
  },
  {
   "cell_type": "code",
   "execution_count": null,
   "metadata": {},
   "outputs": [],
   "source": [
    "dict_2 = {'key 1': 1,\n",
    "          'key 2': 2,\n",
    "          'key 3': 3}\n",
    "\n",
    "value_list = list(dict_2.values())\n",
    "print(value_list[1])\n"
   ]
  },
  {
   "cell_type": "code",
   "execution_count": null,
   "metadata": {},
   "outputs": [
    {
     "name": "stdout",
     "output_type": "stream",
     "text": [
      "  ChildId  Age first contact Gender    Birthday CP Plan?\n",
      "0     id1                  6      M  01/01/2002        Y\n",
      "1     id2                 12      m  02/02/2003        n\n",
      "2     id3                 11      F        <NA>        N\n",
      "3     id4                  1         03/03/2023       No\n",
      "4     id5                 19      F  06/01/2012      yES\n",
      "<class 'pandas.core.frame.DataFrame'>\n",
      "RangeIndex: 5 entries, 0 to 4\n",
      "Data columns (total 5 columns):\n",
      " #   Column             Non-Null Count  Dtype \n",
      "---  ------             --------------  ----- \n",
      " 0   ChildId            5 non-null      object\n",
      " 1   Age first contact  5 non-null      int64 \n",
      " 2   Gender             5 non-null      object\n",
      " 3   Birthday           4 non-null      object\n",
      " 4   CP Plan?           5 non-null      object\n",
      "dtypes: int64(1), object(4)\n",
      "memory usage: 328.0+ bytes\n"
     ]
    },
    {
     "data": {
      "text/plain": [
       "array(['Y', 'n', 'N', 'No', 'yES'], dtype=object)"
      ]
     },
     "execution_count": 175,
     "metadata": {},
     "output_type": "execute_result"
    }
   ],
   "source": [
    "import pandas as pd\n",
    "\n",
    "df = pd.DataFrame({'ChildId':['id1', 'id2', 'id3', 'id4', 'id5'],\n",
    "                   'Age first contact':[6,12,11,1,19],\n",
    "                   'Gender':['M','m', 'F', '', 'F' ],\n",
    "                   'Birthday':['01/01/2002', '02/02/2003', pd.NA, '03/03/2023', '06/01/2012'],\n",
    "                   'CP Plan?':['Y', 'n', 'N', 'No', 'yES'],})\n",
    "\n",
    "print(df)\n",
    "df\n",
    "df.info()\n",
    "df.head(5)\n",
    "df['Gender'].unique()\n",
    "df['CP Plan?'].unique()\n",
    "\n",
    "\n"
   ]
  },
  {
   "cell_type": "code",
   "execution_count": null,
   "metadata": {},
   "outputs": [
    {
     "name": "stdout",
     "output_type": "stream",
     "text": [
      "<class 'pandas.core.frame.DataFrame'>\n",
      "RangeIndex: 5 entries, 0 to 4\n",
      "Data columns (total 5 columns):\n",
      " #   Column             Non-Null Count  Dtype         \n",
      "---  ------             --------------  -----         \n",
      " 0   ChildId            5 non-null      object        \n",
      " 1   Age first contact  5 non-null      int64         \n",
      " 2   Gender             5 non-null      object        \n",
      " 3   Birthday           4 non-null      datetime64[ns]\n",
      " 4   CP Plan?           5 non-null      object        \n",
      "dtypes: datetime64[ns](1), int64(1), object(3)\n",
      "memory usage: 328.0+ bytes\n",
      "None\n"
     ]
    }
   ],
   "source": [
    "df['Birthday']= pd.to_datetime(df['Birthday'],format='%d/%m/%Y',errors='coerce')\n",
    "print(df.info())\n"
   ]
  },
  {
   "cell_type": "code",
   "execution_count": null,
   "metadata": {},
   "outputs": [],
   "source": [
    "df['Current age']= pd.to_datetime('today').normalize() - df['Birthday']\n",
    "df['Age at end of reporting period']= pd.to_datetime('31/03/2024', dayfirst= True)-df['Birthday']\n",
    "\n",
    "df['Current age'] = df['Current age']/pd.Timedelta('365 days')\n",
    "df['Current age'] = df['Current age'].round().astype('int',errors='ignore')\n",
    "\n",
    "\n"
   ]
  },
  {
   "cell_type": "code",
   "execution_count": null,
   "metadata": {},
   "outputs": [],
   "source": [
    "df['Age at end of reporting period'] = df['Age at end of reporting period']/pd.Timedelta('365 days')\n",
    "\n",
    "df['Age at end of reporting period'] = df['Age at end of reporting period'].round().astype('int',errors='ignore')"
   ]
  },
  {
   "cell_type": "code",
   "execution_count": null,
   "metadata": {},
   "outputs": [
    {
     "data": {
      "text/plain": [
       "0    m\n",
       "1    m\n",
       "2    f\n",
       "3     \n",
       "4    f\n",
       "Name: Gender, dtype: object"
      ]
     },
     "execution_count": 179,
     "metadata": {},
     "output_type": "execute_result"
    }
   ],
   "source": [
    "df['Gender'] = df['Gender'].str.lower()\n",
    "df['Gender']\n"
   ]
  },
  {
   "cell_type": "code",
   "execution_count": null,
   "metadata": {},
   "outputs": [],
   "source": [
    "import pandas as pd\n",
    "\n",
    "df = pd.DataFrame({'ChildId':['id1', 'id2', 'id3', 'id4', 'id5'],\n",
    "                   'Age first contact':[6,12,11,1,19],\n",
    "                   'Gender':['M','m', 'F', '', 'F' ],\n",
    "                   'Birthday':['01/01/2002', '02/02/2003', pd.NA, '03/03/2023', '06/01/2012'],\n",
    "                   'CP Plan?':['Y', 'n', 'N', 'No', 'yES'],})\n",
    "\n",
    "cp_dict = {'Y' :'y',\n",
    "           'N': 'n',\n",
    "           'n':'n',\n",
    "           'No' :'n',\n",
    "           'yES' : 'y'}\n",
    "\n",
    "df['CP Plan?'] = df['CP Plan?'].map(cp_dict)\n"
   ]
  },
  {
   "cell_type": "code",
   "execution_count": null,
   "metadata": {},
   "outputs": [
    {
     "data": {
      "text/plain": [
       "0    y\n",
       "1    n\n",
       "2    n\n",
       "3    n\n",
       "4    y\n",
       "Name: CP Plan?, dtype: object"
      ]
     },
     "execution_count": 181,
     "metadata": {},
     "output_type": "execute_result"
    }
   ],
   "source": [
    "cp_cleaner = lambda row: 'y' if 'y' in row else 'n'if 'n'in row else pd.NA\n",
    "df['CP Plan?'] = df['CP Plan?'].str.lower().apply(cp_cleaner)\n",
    "df['CP Plan?']\n"
   ]
  },
  {
   "cell_type": "code",
   "execution_count": null,
   "metadata": {},
   "outputs": [
    {
     "data": {
      "text/plain": [
       "0       M\n",
       "1       m\n",
       "2       F\n",
       "3    <NA>\n",
       "4       F\n",
       "Name: Gender, dtype: object"
      ]
     },
     "execution_count": 182,
     "metadata": {},
     "output_type": "execute_result"
    }
   ],
   "source": [
    "df['Gender'] = df['Gender'].fillna(pd.NA)   \n",
    "df['Gender']\n",
    "\n",
    "df['Gender'] = df['Gender'].replace(r'^\\s*$',pd.NA,regex= True)\n",
    "df['Gender']\n",
    "\n"
   ]
  },
  {
   "cell_type": "code",
   "execution_count": null,
   "metadata": {},
   "outputs": [
    {
     "data": {
      "text/html": [
       "<div>\n",
       "<style scoped>\n",
       "    .dataframe tbody tr th:only-of-type {\n",
       "        vertical-align: middle;\n",
       "    }\n",
       "\n",
       "    .dataframe tbody tr th {\n",
       "        vertical-align: top;\n",
       "    }\n",
       "\n",
       "    .dataframe thead th {\n",
       "        text-align: right;\n",
       "    }\n",
       "</style>\n",
       "<table border=\"1\" class=\"dataframe\">\n",
       "  <thead>\n",
       "    <tr style=\"text-align: right;\">\n",
       "      <th></th>\n",
       "      <th>ChildId</th>\n",
       "      <th>Age first contact</th>\n",
       "      <th>Gender</th>\n",
       "      <th>Birthday</th>\n",
       "      <th>CP Plan?</th>\n",
       "      <th>Current age</th>\n",
       "      <th>Age of first contact</th>\n",
       "      <th>Age at end of reporting period</th>\n",
       "      <th>NHS Number</th>\n",
       "    </tr>\n",
       "  </thead>\n",
       "  <tbody>\n",
       "    <tr>\n",
       "      <th>0</th>\n",
       "      <td>id1</td>\n",
       "      <td>6.0</td>\n",
       "      <td>M</td>\n",
       "      <td>01/01/2002</td>\n",
       "      <td>y</td>\n",
       "      <td>NaN</td>\n",
       "      <td>NaN</td>\n",
       "      <td>NaN</td>\n",
       "      <td>NaN</td>\n",
       "    </tr>\n",
       "    <tr>\n",
       "      <th>1</th>\n",
       "      <td>id2</td>\n",
       "      <td>12.0</td>\n",
       "      <td>m</td>\n",
       "      <td>02/02/2003</td>\n",
       "      <td>n</td>\n",
       "      <td>NaN</td>\n",
       "      <td>NaN</td>\n",
       "      <td>NaN</td>\n",
       "      <td>NaN</td>\n",
       "    </tr>\n",
       "    <tr>\n",
       "      <th>2</th>\n",
       "      <td>id3</td>\n",
       "      <td>11.0</td>\n",
       "      <td>F</td>\n",
       "      <td>&lt;NA&gt;</td>\n",
       "      <td>n</td>\n",
       "      <td>NaN</td>\n",
       "      <td>NaN</td>\n",
       "      <td>NaN</td>\n",
       "      <td>NaN</td>\n",
       "    </tr>\n",
       "    <tr>\n",
       "      <th>3</th>\n",
       "      <td>id4</td>\n",
       "      <td>1.0</td>\n",
       "      <td>&lt;NA&gt;</td>\n",
       "      <td>03/03/2023</td>\n",
       "      <td>n</td>\n",
       "      <td>NaN</td>\n",
       "      <td>NaN</td>\n",
       "      <td>NaN</td>\n",
       "      <td>NaN</td>\n",
       "    </tr>\n",
       "    <tr>\n",
       "      <th>4</th>\n",
       "      <td>id5</td>\n",
       "      <td>19.0</td>\n",
       "      <td>F</td>\n",
       "      <td>06/01/2012</td>\n",
       "      <td>y</td>\n",
       "      <td>NaN</td>\n",
       "      <td>NaN</td>\n",
       "      <td>NaN</td>\n",
       "      <td>NaN</td>\n",
       "    </tr>\n",
       "    <tr>\n",
       "      <th>5</th>\n",
       "      <td>id6</td>\n",
       "      <td>NaN</td>\n",
       "      <td>m</td>\n",
       "      <td>2014-02-28 00:00:00</td>\n",
       "      <td>NaN</td>\n",
       "      <td>10.0</td>\n",
       "      <td>9.0</td>\n",
       "      <td>10.0</td>\n",
       "      <td>78132</td>\n",
       "    </tr>\n",
       "  </tbody>\n",
       "</table>\n",
       "</div>"
      ],
      "text/plain": [
       "  ChildId  Age first contact Gender             Birthday CP Plan?  \\\n",
       "0     id1                6.0      M           01/01/2002        y   \n",
       "1     id2               12.0      m           02/02/2003        n   \n",
       "2     id3               11.0      F                 <NA>        n   \n",
       "3     id4                1.0   <NA>           03/03/2023        n   \n",
       "4     id5               19.0      F           06/01/2012        y   \n",
       "5     id6                NaN      m  2014-02-28 00:00:00      NaN   \n",
       "\n",
       "   Current age  Age of first contact  Age at end of reporting period  \\\n",
       "0          NaN                   NaN                             NaN   \n",
       "1          NaN                   NaN                             NaN   \n",
       "2          NaN                   NaN                             NaN   \n",
       "3          NaN                   NaN                             NaN   \n",
       "4          NaN                   NaN                             NaN   \n",
       "5         10.0                   9.0                            10.0   \n",
       "\n",
       "  NHS Number  \n",
       "0        NaN  \n",
       "1        NaN  \n",
       "2        NaN  \n",
       "3        NaN  \n",
       "4        NaN  \n",
       "5      78132  "
      ]
     },
     "execution_count": 183,
     "metadata": {},
     "output_type": "execute_result"
    }
   ],
   "source": [
    "new_child = {\n",
    "    'ChildId' : ['id6'],\n",
    "    'Current age' : [10],\n",
    "    'Age of first contact' : [9],\n",
    "    'Gender' : ['m'],\n",
    "    'Birthday' : [pd.to_datetime('28/02/2014',dayfirst = True)],\n",
    "    'Age at end of reporting period': [10],\n",
    "    'NHS Number' : ['78132']\n",
    "}\n",
    "new_child = pd.DataFrame(new_child)\n",
    "df = pd.concat([df, new_child], ignore_index=True)\n",
    "\n",
    "df.drop_duplicates(subset='ChildId',keep='last')\n",
    "\n",
    "df\n"
   ]
  },
  {
   "cell_type": "code",
   "execution_count": 24,
   "metadata": {},
   "outputs": [
    {
     "ename": "NameError",
     "evalue": "name 'pd' is not defined",
     "output_type": "error",
     "traceback": [
      "\u001b[0;31m---------------------------------------------------------------------------\u001b[0m",
      "\u001b[0;31mNameError\u001b[0m                                 Traceback (most recent call last)",
      "Cell \u001b[0;32mIn[24], line 1\u001b[0m\n\u001b[0;32m----> 1\u001b[0m nhs_numbers \u001b[38;5;241m=\u001b[39m \u001b[43mpd\u001b[49m\u001b[38;5;241m.\u001b[39mDataFrame([\n\u001b[1;32m      2\u001b[0m                             {\u001b[38;5;124m'\u001b[39m\u001b[38;5;124mChildId\u001b[39m\u001b[38;5;124m'\u001b[39m:\u001b[38;5;124m'\u001b[39m\u001b[38;5;124mid1\u001b[39m\u001b[38;5;124m'\u001b[39m,\n\u001b[1;32m      3\u001b[0m                             \u001b[38;5;124m'\u001b[39m\u001b[38;5;124mNHS Number\u001b[39m\u001b[38;5;124m'\u001b[39m: \u001b[38;5;124m'\u001b[39m\u001b[38;5;124m303\u001b[39m\u001b[38;5;124m'\u001b[39m,},\n\u001b[1;32m      4\u001b[0m                             {\u001b[38;5;124m'\u001b[39m\u001b[38;5;124mChildId\u001b[39m\u001b[38;5;124m'\u001b[39m:\u001b[38;5;124m'\u001b[39m\u001b[38;5;124mid2\u001b[39m\u001b[38;5;124m'\u001b[39m,\n\u001b[1;32m      5\u001b[0m                             \u001b[38;5;124m'\u001b[39m\u001b[38;5;124mNHS Number\u001b[39m\u001b[38;5;124m'\u001b[39m: \u001b[38;5;124m'\u001b[39m\u001b[38;5;124m3u5029\u001b[39m\u001b[38;5;124m'\u001b[39m,},\n\u001b[1;32m      6\u001b[0m                             {\u001b[38;5;124m'\u001b[39m\u001b[38;5;124mChildId\u001b[39m\u001b[38;5;124m'\u001b[39m:\u001b[38;5;124m'\u001b[39m\u001b[38;5;124mid3\u001b[39m\u001b[38;5;124m'\u001b[39m,\n\u001b[1;32m      7\u001b[0m                             \u001b[38;5;124m'\u001b[39m\u001b[38;5;124mNHS Number\u001b[39m\u001b[38;5;124m'\u001b[39m: \u001b[38;5;124m'\u001b[39m\u001b[38;5;124mgqw3\u001b[39m\u001b[38;5;124m'\u001b[39m,},\n\u001b[1;32m      8\u001b[0m                             {\u001b[38;5;124m'\u001b[39m\u001b[38;5;124mChildId\u001b[39m\u001b[38;5;124m'\u001b[39m:\u001b[38;5;124m'\u001b[39m\u001b[38;5;124mid4\u001b[39m\u001b[38;5;124m'\u001b[39m,\n\u001b[1;32m      9\u001b[0m                             \u001b[38;5;124m'\u001b[39m\u001b[38;5;124mNHS Number\u001b[39m\u001b[38;5;124m'\u001b[39m: \u001b[38;5;124m'\u001b[39m\u001b[38;5;124mavsgvb\u001b[39m\u001b[38;5;124m'\u001b[39m,},\n\u001b[1;32m     10\u001b[0m                             {\u001b[38;5;124m'\u001b[39m\u001b[38;5;124mChildId\u001b[39m\u001b[38;5;124m'\u001b[39m:\u001b[38;5;124m'\u001b[39m\u001b[38;5;124mid5\u001b[39m\u001b[38;5;124m'\u001b[39m,\n\u001b[1;32m     11\u001b[0m                             \u001b[38;5;124m'\u001b[39m\u001b[38;5;124mNHS Number\u001b[39m\u001b[38;5;124m'\u001b[39m: \u001b[38;5;124m'\u001b[39m\u001b[38;5;124mvarwvw\u001b[39m\u001b[38;5;124m'\u001b[39m,},\n\u001b[1;32m     12\u001b[0m                             ])\n\u001b[1;32m     14\u001b[0m df \u001b[38;5;241m=\u001b[39m pd\u001b[38;5;241m.\u001b[39mmerge(df, nhs_numbers, how\u001b[38;5;241m=\u001b[39m\u001b[38;5;124m'\u001b[39m\u001b[38;5;124mleft\u001b[39m\u001b[38;5;124m'\u001b[39m,left_on\u001b[38;5;241m=\u001b[39m\u001b[38;5;124m'\u001b[39m\u001b[38;5;124mChildId\u001b[39m\u001b[38;5;124m'\u001b[39m, right_on\u001b[38;5;241m=\u001b[39m\u001b[38;5;124m'\u001b[39m\u001b[38;5;124mChildId\u001b[39m\u001b[38;5;124m'\u001b[39m,suffixes\u001b[38;5;241m=\u001b[39m[\u001b[38;5;124m'\u001b[39m\u001b[38;5;124m_original\u001b[39m\u001b[38;5;124m'\u001b[39m,\u001b[38;5;124m'\u001b[39m\u001b[38;5;124m_nhs_df\u001b[39m\u001b[38;5;124m'\u001b[39m])\n\u001b[1;32m     15\u001b[0m df[\u001b[38;5;124m'\u001b[39m\u001b[38;5;124mNHS Number_original\u001b[39m\u001b[38;5;124m'\u001b[39m] \u001b[38;5;241m=\u001b[39m df[\u001b[38;5;124m'\u001b[39m\u001b[38;5;124mNHS Number_original\u001b[39m\u001b[38;5;124m'\u001b[39m]\u001b[38;5;241m.\u001b[39mfillna(df[\u001b[38;5;124m'\u001b[39m\u001b[38;5;124mNHS Number_nhs_df\u001b[39m\u001b[38;5;124m'\u001b[39m])\n",
      "\u001b[0;31mNameError\u001b[0m: name 'pd' is not defined"
     ]
    }
   ],
   "source": [
    "nhs_numbers = pd.DataFrame([\n",
    "                            {'ChildId':'id1',\n",
    "                            'NHS Number': '303',},\n",
    "                            {'ChildId':'id2',\n",
    "                            'NHS Number': '3u5029',},\n",
    "                            {'ChildId':'id3',\n",
    "                            'NHS Number': 'gqw3',},\n",
    "                            {'ChildId':'id4',\n",
    "                            'NHS Number': 'avsgvb',},\n",
    "                            {'ChildId':'id5',\n",
    "                            'NHS Number': 'varwvw',},\n",
    "                            ])\n",
    "\n",
    "df = pd.merge(df, nhs_numbers, how='left',left_on='ChildId', right_on='ChildId',suffixes=['_original','_nhs_df'])\n",
    "df['NHS Number_original'] = df['NHS Number_original'].fillna(df['NHS Number_nhs_df'])\n",
    "df.drop('NHS Number_nhs_df', axis=1, inplace=True)\n",
    "\n"
   ]
  },
  {
   "cell_type": "code",
   "execution_count": null,
   "metadata": {},
   "outputs": [
    {
     "ename": "NameError",
     "evalue": "name 'df' is not defined",
     "output_type": "error",
     "traceback": [
      "\u001b[0;31m---------------------------------------------------------------------------\u001b[0m",
      "\u001b[0;31mNameError\u001b[0m                                 Traceback (most recent call last)",
      "Cell \u001b[0;32mIn[1], line 1\u001b[0m\n\u001b[0;32m----> 1\u001b[0m \u001b[43mdf\u001b[49m\n",
      "\u001b[0;31mNameError\u001b[0m: name 'df' is not defined"
     ]
    }
   ],
   "source": [
    "df"
   ]
  },
  {
   "cell_type": "code",
   "execution_count": 36,
   "metadata": {},
   "outputs": [
    {
     "name": "stdout",
     "output_type": "stream",
     "text": [
      "1\n",
      "2\n",
      "3\n",
      "4\n",
      "5\n",
      "6\n",
      "7\n",
      "8\n",
      "9\n",
      "10\n"
     ]
    }
   ],
   "source": [
    "#Looping repeat code over and over again\n",
    "\n",
    "\n",
    "\n",
    "# for something in thing: \n",
    "  #  do process on something\n",
    "\n",
    "import time\n",
    "numbers = list (range(1,11))\n",
    "\n",
    "for number in numbers:\n",
    "    print (number)\n",
    "    #time.sleep(1)\n",
    "\n",
    "\n",
    "\n",
    "\n"
   ]
  },
  {
   "cell_type": "code",
   "execution_count": 37,
   "metadata": {},
   "outputs": [
    {
     "name": "stdout",
     "output_type": "stream",
     "text": [
      "a\n",
      "b\n",
      "c\n",
      "d\n",
      "e\n",
      "f\n",
      "g\n",
      "h\n"
     ]
    }
   ],
   "source": [
    "Alphabet = [\"a\",\"b\",\"c\",\"d\",\"e\",\"f\",\"g\",\"h\"]\n",
    "\n",
    "for string  in Alphabet:\n",
    "    print (string)\n",
    "    "
   ]
  },
  {
   "cell_type": "code",
   "execution_count": 40,
   "metadata": {},
   "outputs": [
    {
     "name": "stdout",
     "output_type": "stream",
     "text": [
      "a\n",
      "b\n",
      "c\n",
      "d\n",
      "e\n",
      "f\n",
      "g\n"
     ]
    }
   ],
   "source": [
    "word = 'abcdefg'\n",
    "for character in word:\n",
    "    print(character)\n"
   ]
  },
  {
   "cell_type": "code",
   "execution_count": 42,
   "metadata": {},
   "outputs": [
    {
     "name": "stdout",
     "output_type": "stream",
     "text": [
      "1\n",
      "2\n",
      "2\n",
      "4\n",
      "3\n",
      "6\n",
      "4\n",
      "8\n",
      "5\n",
      "10\n",
      "6\n",
      "12\n",
      "7\n",
      "14\n",
      "8\n",
      "16\n",
      "9\n",
      "18\n",
      "10\n",
      "20\n"
     ]
    }
   ],
   "source": [
    "#nesting loop also multiply by its own number\n",
    "\n",
    "for number in numbers:\n",
    "    print (1*number)\n",
    "    print (2*number)"
   ]
  },
  {
   "cell_type": "code",
   "execution_count": 44,
   "metadata": {},
   "outputs": [
    {
     "name": "stdout",
     "output_type": "stream",
     "text": [
      "['1 a']\n",
      "['1 a', '1 b']\n",
      "['1 a', '1 b', '1 c']\n",
      "['1 a', '1 b', '1 c', '2 c']\n",
      "['1 a', '1 b', '1 c', '2 c', '3 c']\n",
      "['1 a', '1 b', '1 c', '2 c', '3 c', '4 c']\n",
      "['1 a', '1 b', '1 c', '2 c', '3 c', '4 c', '5 c']\n"
     ]
    }
   ],
   "source": [
    "numbers =[1,2,3,4,5]\n",
    "letter = ['a','b','c',]\n",
    "\n",
    "letter_numbers = []\n",
    "\n",
    "for number in numbers:\n",
    "    for letter  in letter:\n",
    "        letter_numbers.append(f'{number} {letter}')\n",
    "\n",
    "        print (letter_numbers)\n",
    "\n"
   ]
  },
  {
   "cell_type": "code",
   "execution_count": 49,
   "metadata": {},
   "outputs": [
    {
     "name": "stdout",
     "output_type": "stream",
     "text": [
      "['butter ham', 'butter cheese', 'butter sardines', 'jam ham', 'jam cheese', 'jam sardines', 'peanut butter ham', 'peanut butter cheese', 'peanut butter sardines']\n"
     ]
    }
   ],
   "source": [
    "spreads = ['butter', 'jam', 'peanut butter']\n",
    "toppings = ['ham', 'cheese', 'sardines']\n",
    "\n",
    "spreads_toppings = []\n",
    "\n",
    "for spread in spreads:\n",
    "    for topping  in toppings:\n",
    "        spreads_toppings.append(f'{spread} {topping}')\n",
    "\n",
    "print (spreads_toppings)\n",
    "\n"
   ]
  },
  {
   "cell_type": "code",
   "execution_count": 61,
   "metadata": {},
   "outputs": [
    {
     "name": "stdout",
     "output_type": "stream",
     "text": [
      "dict_items([('key 1', 1), ('key 2', 2), ('key 3', 3)])\n",
      "the key is key 1, the value is 1\n",
      "the key is key 2, the value is 2\n",
      "the key is key 3, the value is 3\n"
     ]
    }
   ],
   "source": [
    "dict_1 ={'key 1' :1,\n",
    "         'key 2' :2,\n",
    "         'key 3' :3}\n",
    "\n",
    "\n",
    "print(dict_1.items())\n",
    "#for value in dict_1.values():\n",
    "    #print (value)\n",
    "\n",
    "for key, value in dict_1.items():\n",
    "    print(f'the key is {key}, the value is {value}')\n",
    "\n"
   ]
  },
  {
   "cell_type": "code",
   "execution_count": 68,
   "metadata": {},
   "outputs": [
    {
     "name": "stdout",
     "output_type": "stream",
     "text": [
      "kfc, sells chicken\n",
      "mcd, sells burger\n",
      "pizza hut, sells pizza\n"
     ]
    }
   ],
   "source": [
    "food_places = {'kfc' : 'chicken',\n",
    "               'mcd' : 'burger',\n",
    "               'pizza hut' : 'pizza'}\n",
    "\n",
    "for restaurant, food in food_places.items():\n",
    "    print(f'{restaurant}, sells {food}')\n",
    "           "
   ]
  },
  {
   "cell_type": "code",
   "execution_count": null,
   "metadata": {},
   "outputs": [],
   "source": [
    "numbers = [1,2,3]\n",
    "letters = ['a','b','c']\n",
    "animals = ['cat','dog','rat']\n",
    "\n",
    "zipped_stuff = zip(numbers, letters, animals)\n",
    "#print(list(zipped_stuff))\n",
    "\n",
    "for num, let, an in zipped_stuff:\n",
    "    print(f' the number is: {num}, the letter is {let}')"
   ]
  },
  {
   "cell_type": "code",
   "execution_count": 69,
   "metadata": {},
   "outputs": [
    {
     "ename": "NameError",
     "evalue": "name 'letters' is not defined",
     "output_type": "error",
     "traceback": [
      "\u001b[0;31m---------------------------------------------------------------------------\u001b[0m",
      "\u001b[0;31mNameError\u001b[0m                                 Traceback (most recent call last)",
      "Cell \u001b[0;32mIn[69], line 4\u001b[0m\n\u001b[1;32m      1\u001b[0m \u001b[38;5;28;01mimport\u001b[39;00m \u001b[38;5;21;01mpandas\u001b[39;00m \u001b[38;5;28;01mas\u001b[39;00m \u001b[38;5;21;01mpd\u001b[39;00m\n\u001b[1;32m      3\u001b[0m df \u001b[38;5;241m=\u001b[39m pd\u001b[38;5;241m.\u001b[39mDataFrame({\u001b[38;5;124m'\u001b[39m\u001b[38;5;124mNumbers\u001b[39m\u001b[38;5;124m'\u001b[39m: numbers,\n\u001b[0;32m----> 4\u001b[0m                    \u001b[38;5;124m'\u001b[39m\u001b[38;5;124mLetters\u001b[39m\u001b[38;5;124m'\u001b[39m : \u001b[43mletters\u001b[49m,\n\u001b[1;32m      5\u001b[0m                    \u001b[38;5;124m'\u001b[39m\u001b[38;5;124mAnimals\u001b[39m\u001b[38;5;124m'\u001b[39m : animals})\n\u001b[1;32m      8\u001b[0m even_or_odd \u001b[38;5;241m=\u001b[39m \u001b[38;5;28;01mlambda\u001b[39;00m row: \u001b[38;5;124m'\u001b[39m\u001b[38;5;124meven\u001b[39m\u001b[38;5;124m'\u001b[39m \u001b[38;5;28;01mif\u001b[39;00m row \u001b[38;5;241m%\u001b[39m \u001b[38;5;241m2\u001b[39m \u001b[38;5;241m==\u001b[39m \u001b[38;5;241m0\u001b[39m \u001b[38;5;28;01melse\u001b[39;00m \u001b[38;5;124m'\u001b[39m\u001b[38;5;124modd\u001b[39m\u001b[38;5;124m'\u001b[39m\n\u001b[1;32m     10\u001b[0m df[\u001b[38;5;124m'\u001b[39m\u001b[38;5;124mEven or Odd\u001b[39m\u001b[38;5;124m'\u001b[39m] \u001b[38;5;241m=\u001b[39m df[\u001b[38;5;124m'\u001b[39m\u001b[38;5;124mNumbers\u001b[39m\u001b[38;5;124m'\u001b[39m]\u001b[38;5;241m.\u001b[39mapply(even_or_odd)\n",
      "\u001b[0;31mNameError\u001b[0m: name 'letters' is not defined"
     ]
    }
   ],
   "source": [
    "import pandas as pd\n",
    "\n",
    "df = pd.DataFrame({'Numbers': numbers,\n",
    "                   'Letters' : letters,\n",
    "                   'Animals' : animals})\n",
    "\n",
    "\n",
    "even_or_odd = lambda row: 'even' if row % 2 == 0 else 'odd'\n",
    "\n",
    "df['Even or Odd'] = df['Numbers'].apply(even_or_odd)"
   ]
  }
 ],
 "metadata": {
  "kernelspec": {
   "display_name": "Python 3",
   "language": "python",
   "name": "python3"
  },
  "language_info": {
   "codemirror_mode": {
    "name": "ipython",
    "version": 3
   },
   "file_extension": ".py",
   "mimetype": "text/x-python",
   "name": "python",
   "nbconvert_exporter": "python",
   "pygments_lexer": "ipython3",
   "version": "3.10.13"
  }
 },
 "nbformat": 4,
 "nbformat_minor": 2
}
