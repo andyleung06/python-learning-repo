{
 "cells": [
  {
   "cell_type": "code",
   "execution_count": 2,
   "metadata": {},
   "outputs": [
    {
     "name": "stdout",
     "output_type": "stream",
     "text": [
      "3\n"
     ]
    }
   ],
   "source": [
    "x = 1 \n",
    "y = 2\n",
    "z = x + y\n",
    "print (z)"
   ]
  },
  {
   "cell_type": "code",
   "execution_count": 3,
   "metadata": {},
   "outputs": [],
   "source": [
    "x= 1\n",
    "y = 2\n",
    "\n"
   ]
  },
  {
   "cell_type": "code",
   "execution_count": 4,
   "metadata": {},
   "outputs": [
    {
     "name": "stdout",
     "output_type": "stream",
     "text": [
      "1\n"
     ]
    }
   ],
   "source": [
    "print(x)"
   ]
  },
  {
   "cell_type": "code",
   "execution_count": 6,
   "metadata": {},
   "outputs": [
    {
     "name": "stdout",
     "output_type": "stream",
     "text": [
      "1\n"
     ]
    }
   ],
   "source": [
    "print(x)"
   ]
  },
  {
   "cell_type": "code",
   "execution_count": 7,
   "metadata": {},
   "outputs": [
    {
     "name": "stdout",
     "output_type": "stream",
     "text": [
      "2\n"
     ]
    }
   ],
   "source": [
    "x = x +1\n",
    "\n",
    "print(x)"
   ]
  },
  {
   "cell_type": "code",
   "execution_count": 8,
   "metadata": {},
   "outputs": [
    {
     "name": "stdout",
     "output_type": "stream",
     "text": [
      "2\n"
     ]
    }
   ],
   "source": [
    "x = 1\n",
    "x += 1\n",
    "print(x)\n"
   ]
  },
  {
   "cell_type": "code",
   "execution_count": 10,
   "metadata": {},
   "outputs": [
    {
     "name": "stdout",
     "output_type": "stream",
     "text": [
      "30\n"
     ]
    }
   ],
   "source": [
    "x = 10\n",
    "y = 20\n",
    "z = x + y\n",
    "print (z)"
   ]
  },
  {
   "cell_type": "code",
   "execution_count": 22,
   "metadata": {},
   "outputs": [
    {
     "name": "stdout",
     "output_type": "stream",
     "text": [
      "10thirty\n"
     ]
    }
   ],
   "source": [
    "x = \"10\"\n",
    "y = \"thirty\"\n",
    "z = 10.0\n",
    "\n",
    "print (x + y)\n",
    "\n",
    "\n",
    "\n"
   ]
  },
  {
   "cell_type": "code",
   "execution_count": 24,
   "metadata": {},
   "outputs": [
    {
     "name": "stdout",
     "output_type": "stream",
     "text": [
      "5000\n"
     ]
    }
   ],
   "source": [
    "x = 100\n",
    "y = 50 \n",
    "\n",
    "print (x * y)\n"
   ]
  },
  {
   "cell_type": "code",
   "execution_count": 33,
   "metadata": {},
   "outputs": [
    {
     "name": "stdout",
     "output_type": "stream",
     "text": [
      "12.56\n"
     ]
    }
   ],
   "source": [
    "pi = 3.14\n",
    "radius = 2\n",
    "radius_squared = radius ** 2\n",
    "circle_area = radius_squared *pi\n",
    "\n",
    "print (circle_area)\n",
    "\n",
    "#find the area of the circle by creating 4 variables and assign the integers\n"
   ]
  },
  {
   "cell_type": "code",
   "execution_count": 36,
   "metadata": {},
   "outputs": [
    {
     "name": "stdout",
     "output_type": "stream",
     "text": [
      "Andy Likes Running\n",
      "My name is Andy,and I like Running\n"
     ]
    }
   ],
   "source": [
    "name = \"Andy\"\n",
    "hobby = \"Running\"\n",
    "\n",
    "name_hobby = name  + \" Likes \" + hobby\n",
    "\n",
    "print (name_hobby)\n",
    "\n",
    "phrase = f\"My name is {name},and I like {hobby}\"\n",
    "\n",
    "print (phrase)\n",
    "\n",
    "#putting strings together and using the f string to combine strings with additional words in between the strings\n",
    "\n",
    "\n",
    "#the codes are within the blue border and the answer or output are under this blue box\n"
   ]
  },
  {
   "cell_type": "code",
   "execution_count": 47,
   "metadata": {},
   "outputs": [
    {
     "name": "stdout",
     "output_type": "stream",
     "text": [
      "My name is Andy, and my job title is CEO\n"
     ]
    }
   ],
   "source": [
    "name1 = \"Andy\"\n",
    "\n",
    "job_title = \"CEO\"\n",
    "\n",
    "\n",
    "name_title = name + job_title\n",
    "\n",
    "Title = f\"My name is {name1}, and my job title is {job_title}\"\n",
    "\n",
    "print (Title)\n",
    "\n",
    "#putting strings together and using the f string to combine strings with additional words in between the strings to make meanful snetences\n"
   ]
  },
  {
   "cell_type": "code",
   "execution_count": 48,
   "metadata": {},
   "outputs": [
    {
     "name": "stdout",
     "output_type": "stream",
     "text": [
      "5\n",
      "11\n",
      "5\n"
     ]
    }
   ],
   "source": [
    "x = 5\n",
    "print (x)\n",
    "x = 6 + x\n",
    "print (x)\n",
    "x = 5\n",
    "print (x)\n"
   ]
  },
  {
   "cell_type": "code",
   "execution_count": 5,
   "metadata": {},
   "outputs": [
    {
     "name": "stdout",
     "output_type": "stream",
     "text": [
      "30\n",
      "-10\n",
      "200\n",
      "0.5\n",
      "100000000000000000000\n",
      "4.1\n"
     ]
    }
   ],
   "source": [
    "x = 10\n",
    "y = 20\n",
    "\n",
    "#mathematical operations\n",
    "\n",
    "print( x + y) # plus\n",
    "print( x - y) # minus\n",
    "print( x * y) # times\n",
    "print( x / y) # divide\n",
    "print( x ** y) # power of\n",
    "\n",
    "measure = 123\n",
    "pop = 300000\n",
    "rate = measure / pop\n",
    "rp10k = rate * 10000\n",
    "print (rp10k)\n",
    "\n",
    "\n",
    "\n",
    "\n",
    "\n"
   ]
  },
  {
   "cell_type": "code",
   "execution_count": 16,
   "metadata": {},
   "outputs": [
    {
     "name": "stdout",
     "output_type": "stream",
     "text": [
      "c://data/CIN\n",
      "CIN_dataset_202324.csv\n",
      "CIN_dataset_202324\n",
      ".csv\n",
      "c/dt/I_aae_034cv\n"
     ]
    }
   ],
   "source": [
    "my_string = \"c://data/CIN_dataset_202324.csv\"\n",
    "#print(my_string)\n",
    "\n",
    "#in python counting starts at zero\n",
    "#in a range, the second number is not inclusive, it's exclusive\n",
    "\n",
    "new_string = my_string [0:12]\n",
    "print(new_string)\n",
    "\n",
    "\n",
    "filename = my_string [9:]\n",
    "print (filename)\n",
    "\n",
    "short_fn     = filename[:0-4]\n",
    "print(short_fn)\n",
    "\n",
    "filetype = my_string [-4:]\n",
    "print(filetype)\n",
    "\n",
    "#[start: stop : step]\n",
    "weird_string = my_string [: : 2]\n",
    "print (weird_string)\n",
    "\n",
    "\n"
   ]
  },
  {
   "cell_type": "code",
   "execution_count": 29,
   "metadata": {},
   "outputs": [
    {
     "name": "stdout",
     "output_type": "stream",
     "text": [
      "dog\n",
      "cat\n",
      "raccoon\n"
     ]
    }
   ],
   "source": [
    "slice_this_phrase = \"dog cat raccoon\"\n",
    "\n",
    "#slice string slices to isolate each string as animal_1 , animal_2, animal_3\n",
    "\n",
    "animal_1 = slice_this_phrase [:3]\n",
    "print (animal_1)\n",
    "\n",
    "animal_2 = slice_this_phrase [4:7]\n",
    "print (animal_2)\n",
    "\n",
    "animal_3 = slice_this_phrase [-7:]\n",
    "print (animal_3)\n",
    "\n"
   ]
  },
  {
   "cell_type": "code",
   "execution_count": 34,
   "metadata": {},
   "outputs": [
    {
     "name": "stdout",
     "output_type": "stream",
     "text": [
      "<class 'list'>\n",
      "[1, 2.0, ['purple', 'red']]\n"
     ]
    }
   ],
   "source": [
    "list_1 = []\n",
    "print(type(list_1))\n",
    "\n",
    "#how to compile a list or store of answers to problems, turn column into a table\n",
    "\n",
    "x = 1\n",
    "y = 2.0\n",
    "z = \"three\"\n",
    "list_1 = [\"purple\", \"red\"]\n",
    "\n",
    "list_2 = [x, y, list_1]\n",
    "\n",
    "print(list_2)\n",
    "\n"
   ]
  },
  {
   "cell_type": "code",
   "execution_count": 10,
   "metadata": {},
   "outputs": [
    {
     "name": "stdout",
     "output_type": "stream",
     "text": [
      "['red', 'blue', 'Green']\n",
      "['red', 'blue', 'Green', 'purple']\n",
      "['red', 'blue', 'Green', 'purple', ['orange', ' black']]\n",
      "['red', 'blue', 'Green', 'purple', ['orange', ' black'], 'brown']\n"
     ]
    }
   ],
   "source": [
    "colours = [\"red\", \"blue\", \"Green\"]\n",
    "print (colours)\n",
    "\n",
    "colours.append(\"purple\")\n",
    "\n",
    "print(colours)\n",
    "\n",
    "colours.append( [\"orange\", \" black\"]) # adding a list nested within a list\n",
    "\n",
    "print(colours)\n",
    "\n",
    "colours.append (\"brown\")\n",
    "\n",
    "print(colours)\n",
    "\n",
    "# methods of lists\n",
    "#append\n",
    "#extend\n",
    "#insert\n",
    "#sort\n",
    "\n",
    "#see python docs fo full list of methods\n"
   ]
  },
  {
   "cell_type": "code",
   "execution_count": 10,
   "metadata": {},
   "outputs": [
    {
     "name": "stdout",
     "output_type": "stream",
     "text": [
      "<class 'str'>\n",
      "[1, 2, 3, [10, 11], 3, 4, 5]\n",
      "3\n",
      "[2, [10, 11], 4]\n",
      "[0, 1, 2, 3, 4, 5, 6, 7, 8, 9, 10]\n"
     ]
    }
   ],
   "source": [
    "#storing variables - name of variables is left handside\n",
    "num_1 = 1 # integer\n",
    "num_2 = 2.0 # float\n",
    "name = \"Andy\" #string\n",
    "list_1 = [1,2,3,]\n",
    "\n",
    "print (type(name)) #print is a function\n",
    "\n",
    "list_1.append ([10,11])\n",
    "list_1.extend ([3,4,5,])\n",
    "print(list_1)\n",
    "\n",
    "list_index_individual = list_1[4]\n",
    "print(list_index_individual)\n",
    "\n",
    "list_slice = list_1 [1::2]\n",
    "print(list_slice)\n",
    "\n",
    "list_2 = list(range (11))\n",
    "print(list_2)\n",
    "\n",
    "\n",
    "\n",
    "\n",
    "\n"
   ]
  },
  {
   "cell_type": "code",
   "execution_count": 13,
   "metadata": {},
   "outputs": [
    {
     "name": "stdout",
     "output_type": "stream",
     "text": [
      "<class 'int'>\n"
     ]
    }
   ],
   "source": [
    "num_2 = str(num_2)\n",
    "\n",
    "num_2 = float(num_2)\n",
    "\n",
    "num_2 = int(num_2)\n",
    "\n",
    "print(type(num_2))\n"
   ]
  },
  {
   "cell_type": "code",
   "execution_count": 18,
   "metadata": {},
   "outputs": [
    {
     "name": "stdout",
     "output_type": "stream",
     "text": [
      "[2, 3, 4, 5, 1, 6]\n",
      "[6, 5, 4, 3, 2, 1]\n"
     ]
    }
   ],
   "source": [
    "numbers_list = [2,3,4,5,1,6,]\n",
    "print (numbers_list)\n",
    "\n",
    "numbers_list.sort(reverse = True)\n",
    "print(numbers_list)\n",
    "\n",
    "\n"
   ]
  },
  {
   "cell_type": "code",
   "execution_count": 19,
   "metadata": {},
   "outputs": [
    {
     "name": "stdout",
     "output_type": "stream",
     "text": [
      "<class 'dict'>\n"
     ]
    }
   ],
   "source": [
    "# Dictionary to store variables in any data - key left handside, value right handside\n",
    "\n",
    "dict_1 = {'key1' :'Value,\n",
    "          'key2:' : 'Value'}\n",
    "\n",
    "print(type(dict_1))\n"
   ]
  },
  {
   "cell_type": "code",
   "execution_count": 34,
   "metadata": {},
   "outputs": [
    {
     "ename": "SyntaxError",
     "evalue": "unterminated string literal (detected at line 22) (3727295964.py, line 22)",
     "output_type": "error",
     "traceback": [
      "\u001b[0;36m  Cell \u001b[0;32mIn[34], line 22\u001b[0;36m\u001b[0m\n\u001b[0;31m    'KFC': ['chicken wing', 'chickern burger', 'mash with 'gravy'],\u001b[0m\n\u001b[0m                                                                ^\u001b[0m\n\u001b[0;31mSyntaxError\u001b[0m\u001b[0;31m:\u001b[0m unterminated string literal (detected at line 22)\n"
     ]
    }
   ],
   "source": [
    "Andy = {'Name' : 'Andy',\n",
    "        'Job Title' : 'Analyst',\n",
    "        'Hours' : 'Too Many',\n",
    "        'Salary' :10}\n",
    "\n",
    "colours_dict = {'Ryan' : 'Blue',\n",
    "                'Soph' : ['Black','Orange'],\n",
    "                'Laura' : '18',\n",
    "                'Sam' : {'Mondday': 'White'}\n",
    "                'Sunday' : 'brown'}\n",
    "\n",
    "#exercise - make a dictionary of some restaurants and the food they sell\n",
    "\n",
    "\n"
   ]
  },
  {
   "cell_type": "code",
   "execution_count": 41,
   "metadata": {},
   "outputs": [
    {
     "name": "stdout",
     "output_type": "stream",
     "text": [
      "dict_keys(['Mcd', 'KFC', 'local hotel', 'gastro pub foodweekends', 'kebab shop'])\n",
      "dict_values(['burger', ['chicken wing', 'chickern burger', 'mash with gravy'], 'weekdays', 'high tea', 'kebabs'])\n",
      "dict_items([('Mcd', 'burger'), ('KFC', ['chicken wing', 'chickern burger', 'mash with gravy']), ('local hotel', 'weekdays'), ('gastro pub foodweekends', 'high tea'), ('kebab shop', 'kebabs')])\n",
      "False\n",
      "True\n"
     ]
    }
   ],
   "source": [
    "\n",
    "restaurants = {'Mcd' :'burger',\n",
    "               'KFC': ['chicken wing', 'chickern burger', 'mash with gravy'],\n",
    "               'local hotel': 'weekdays', 'gastro pub food'\n",
    "                              'weekends' : 'high tea'}\n",
    "\n",
    "\n",
    "restaurants ['kebab shop'] = 'kebabs'\n",
    "\n",
    "print(restaurants.keys())\n",
    "print (restaurants.values())\n",
    "print (restaurants.items())\n",
    "\n",
    "print('curry' in restaurants)\n",
    "print ('kebab shop' in restaurants)\n",
    "\n",
    "\n",
    "\n",
    "\n",
    "\n"
   ]
  },
  {
   "cell_type": "code",
   "execution_count": 42,
   "metadata": {},
   "outputs": [],
   "source": [
    "#data frames (for example, csv or SQL)\n",
    "#import it like pandas and what we need from pandas (pd short for pandas)\n",
    "#from random import randrange # import randrange from Pandas\n",
    "\n",
    "\n",
    "import pandas as pd\n",
    "\n",
    "filepath = 'http://raw.githubusercontent.com/data-to-insight/csc-validator-be-903/main/tests/fake_data/header.csv'\n",
    "\n",
    "header_fake = pd.read_csv(filepath)\n",
    "\n",
    "# read an excel file pd.read_excel(<fileptah>)\n",
    "\n"
   ]
  },
  {
   "cell_type": "code",
   "execution_count": 46,
   "metadata": {},
   "outputs": [
    {
     "name": "stdout",
     "output_type": "stream",
     "text": [
      "    CHILD  SEX         DOB ETHNIC            UPN  MOTHER MC_DOB\n",
      "0  566910    2  27/03/2008   WROM  D051910639385     NaN    NaN\n",
      "1  384923    2  09/09/2011   REFU  L034811502612     NaN    NaN\n",
      "2  709901    1  14/02/2013   ABAN  Y021751958510     NaN    NaN\n",
      "3  550084    2  04/05/2008   AOTH  R095578985099     NaN    NaN\n",
      "4  710229    2  15/04/2002   REFU  Z095096287583     NaN    NaN\n",
      "5  733831    1  06/07/2013   WROM  Z005227500041     NaN    NaN\n",
      "6   69112    2  11/09/2010   ABAN  X089575916879     NaN    NaN\n",
      "7  853884    2  09/10/2004   WBRI  U096513817313     NaN    NaN\n",
      "8  634852    2  19/10/2006   WIRI  X019131453866     NaN    NaN\n",
      "9  512087    1  01/10/2003   MOTH  J091207487052     NaN    NaN\n",
      "       CHILD  SEX         DOB ETHNIC            UPN  MOTHER MC_DOB\n",
      "2665  199656    1  08/07/2009   WOTH  G006043737339     NaN    NaN\n",
      "2666  587124    1  14/10/2006   AOTH  X013739746473     NaN    NaN\n",
      "2667  558581    1  05/07/2001   MWBC  S048947751783     NaN    NaN\n",
      "2668  937984    2  08/05/2008   WROM  B072095547455     NaN    NaN\n",
      "2669  942735    2  27/10/2010   BCRB  V010957149459     NaN    NaN\n",
      "2670  152113    1  06/06/2003   WBRI  K096794376750     NaN    NaN\n",
      "2671  481370    2  12/02/2008   BAFR  C014150452081     NaN    NaN\n",
      "2672  791577    1  28/05/2011   WBRI  Q009369089812     NaN    NaN\n",
      "2673  238470    1  21/11/2013   AIND  P095222532769     NaN    NaN\n",
      "2674  437361    1  15/12/2012   WROM  G018001328504     NaN    NaN\n",
      "<class 'pandas.core.frame.DataFrame'>\n",
      "RangeIndex: 2675 entries, 0 to 2674\n",
      "Data columns (total 7 columns):\n",
      " #   Column  Non-Null Count  Dtype  \n",
      "---  ------  --------------  -----  \n",
      " 0   CHILD   2675 non-null   int64  \n",
      " 1   SEX     2675 non-null   int64  \n",
      " 2   DOB     2675 non-null   object \n",
      " 3   ETHNIC  2675 non-null   object \n",
      " 4   UPN     2675 non-null   object \n",
      " 5   MOTHER  1 non-null      float64\n",
      " 6   MC_DOB  1 non-null      object \n",
      "dtypes: float64(1), int64(2), object(4)\n",
      "memory usage: 146.4+ KB\n",
      "None\n"
     ]
    }
   ],
   "source": [
    "print(header_fake.head(10))\n",
    "print(header_fake.tail(10))\n",
    "\n",
    "print(header_fake.info())\n",
    "\n"
   ]
  },
  {
   "cell_type": "code",
   "execution_count": 65,
   "metadata": {},
   "outputs": [
    {
     "name": "stdout",
     "output_type": "stream",
     "text": [
      "   col1 col2 col3\n",
      "0     1    A  foo\n",
      "1     2    B  bar\n",
      "2     3    C  baz\n",
      "                  Name Salary        Job Title\n",
      "0    Will Levack-Payne     10          Teacher\n",
      "1   Annie Levack-Payne      8     Head Teacher\n",
      "2    Andy Levack-Payne      7  Trainee Teacher\n",
      "3  Naiomi Levack-Payne     18     Sports coach\n",
      "4            Scout DOg      0              Dog\n",
      "<class 'pandas.core.frame.DataFrame'>\n",
      "RangeIndex: 5 entries, 0 to 4\n",
      "Data columns (total 3 columns):\n",
      " #   Column     Non-Null Count  Dtype \n",
      "---  ------     --------------  ----- \n",
      " 0   Name       5 non-null      object\n",
      " 1   Salary     5 non-null      object\n",
      " 2   Job Title  5 non-null      object\n",
      "dtypes: object(3)\n",
      "memory usage: 248.0+ bytes\n",
      "None\n",
      "                Name Salary Job Title\n",
      "0  Will Levack-Payne     10   Teacher\n",
      "0    10\n",
      "1     8\n",
      "2     7\n",
      "3    18\n",
      "4     0\n",
      "Name: Salary, dtype: object\n",
      "                  Name        Job Title\n",
      "0    Will Levack-Payne          Teacher\n",
      "1   Annie Levack-Payne     Head Teacher\n",
      "2    Andy Levack-Payne  Trainee Teacher\n",
      "3  Naiomi Levack-Payne     Sports coach\n",
      "4            Scout DOg              Dog\n"
     ]
    }
   ],
   "source": [
    "#dict of list\n",
    "\n",
    "#check this with Will\n",
    "\n",
    "d_1 ={'col1' : [1,2,3],\n",
    "       'col2' : ['A','B','C'],\n",
    "       'col3' : ['foo','bar','baz']}\n",
    "\n",
    "df_1 = pd.DataFrame(d_1)\n",
    "print(df_1)\n",
    "\n",
    "\n",
    "#list of dicts\n",
    "\n",
    "#check this with Will \n",
    "\n",
    "df_2= pd.DataFrame([\n",
    "    {'column1' :1,\n",
    "     'column2' : 'A',\n",
    "     'column3' : 'foo'},\n",
    "    {'column1' :2,\n",
    "     'column2' : 'B',\n",
    "     'column3' : 'Bar'},\n",
    "     {'column1' :3,\n",
    "     'column2' : 'C',\n",
    "     'column3' : 'Baz'},])\n",
    "\n",
    "\n",
    "# #staff = pd.DataFrame([\n",
    "#     {'Name':'Will Levack-Payne',\n",
    "#      'Salary':'10',\n",
    "#      'Job Title':'Teacher'},\n",
    "#      {'Name':'Annie Levack-Payne',\n",
    "#      'Salary':'8',\n",
    "#      'Job Title':'Head Teacher',\n",
    "#      staff = pd.DataFrame([\n",
    "#     {'Name':'Will Levack-Payne',\n",
    "#      'Salary':'10',\n",
    "#      'Job Title':'Teacher'},\n",
    "#      {'Name':'Andy Leung',\n",
    "#      'Salary':'12',\n",
    "#      'Job Title':'Caretaker'}\n",
    "# ])\n",
    "\n",
    "staff = pd.DataFrame([\n",
    "    {'Name':'Will Levack-Payne',\n",
    "     'Salary':'10',\n",
    "     'Job Title':'Teacher'},\n",
    "     {'Name':'Annie Levack-Payne',\n",
    "     'Salary':'8',\n",
    "     'Job Title':'Head Teacher'},\n",
    "    {'Name':'Andy Levack-Payne',\n",
    "     'Salary':'7',\n",
    "     'Job Title':'Trainee Teacher'},\n",
    "     {'Name':'Naiomi Levack-Payne',\n",
    "     'Salary':'18',\n",
    "     'Job Title':'Sports coach'},\n",
    "     {'Name':'Scout DOg',\n",
    "     'Salary':'0',\n",
    "     'Job Title':'Dog'}\n",
    "])\n",
    "\n",
    "print(staff)\n",
    "\n",
    "print(staff.info())\n",
    "print (staff.head (1))\n",
    "print (staff['Salary'])\n",
    "print (staff[['Name', 'Job Title']])\n",
    "\n"
   ]
  },
  {
   "cell_type": "code",
   "execution_count": 67,
   "metadata": {},
   "outputs": [
    {
     "name": "stdout",
     "output_type": "stream",
     "text": [
      "int64\n",
      "The mean salary is : 8.6\n",
      "The total salaries is : 43\n",
      "The max and min salaries are : 18,0.\n"
     ]
    }
   ],
   "source": [
    "staff['Salary'] = staff ['Salary'].astype('int')\n",
    "print (staff['Salary'].dtypes)\n",
    "\n",
    "mean_salary = staff['Salary'].mean()\n",
    "sum_salary = staff ['Salary'].sum()\n",
    "max_salary = staff ['Salary'].max ()\n",
    "min_salary = staff ['Salary'].min ()\n",
    "\n",
    "print(f'The mean salary is : {mean_salary}')\n",
    "print(f'The total salaries is : {sum_salary}')\n",
    "print(f'The max and min salaries are : {max_salary},{min_salary}.')"
   ]
  }
 ],
 "metadata": {
  "kernelspec": {
   "display_name": "Python 3",
   "language": "python",
   "name": "python3"
  },
  "language_info": {
   "codemirror_mode": {
    "name": "ipython",
    "version": 3
   },
   "file_extension": ".py",
   "mimetype": "text/x-python",
   "name": "python",
   "nbconvert_exporter": "python",
   "pygments_lexer": "ipython3",
   "version": "3.10.13"
  }
 },
 "nbformat": 4,
 "nbformat_minor": 2
}
